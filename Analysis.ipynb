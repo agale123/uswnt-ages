{
 "cells": [
  {
   "cell_type": "code",
   "execution_count": 101,
   "metadata": {},
   "outputs": [],
   "source": [
    "import seaborn as sns\n",
    "import numpy as np\n",
    "import pandas as pd\n",
    "import matplotlib.pyplot as plt"
   ]
  },
  {
   "cell_type": "code",
   "execution_count": 91,
   "metadata": {},
   "outputs": [],
   "source": [
    "# Define constants\n",
    "years = [\"2000\", \"2003\", \"2004\", \"2007\", \"2008\", \"2011\", \"2012\", \"2015\", \"2016\", \"2019\", \"2021\"]\n",
    "results = [\"silver\", \"#CD7F32\", \"gold\", \"#CD7F32\", \"gold\", \"silver\", \"gold\", \"gold\", \"white\", \"gold\", \"white\"]\n",
    "columns = [\"Year\", \"Player\", \"Age\", \"Min\", \"Goals\", \"Assists\"]"
   ]
  },
  {
   "cell_type": "code",
   "execution_count": 92,
   "metadata": {},
   "outputs": [],
   "source": [
    "# Read in data\n",
    "df = pd.DataFrame([], columns = columns)\n",
    "df[\"Age\"] = pd.to_numeric(df[\"Age\"])\n",
    "\n",
    "for year in years:\n",
    "    data = pd.read_csv(\"data/\" + year + \".csv\")\n",
    "    data[\"Year\"] = year\n",
    "    data.rename(columns={\"Gls\": \"Goals\", \"Ast\": \"Assists\"}, inplace=True)\n",
    "    data.fillna(0, inplace=True)\n",
    "    \n",
    "    data[\"Player\"] = data['Player'].str.split(\"\\\\\", n = 1, expand = True)\n",
    "    df = df.append(data[columns], ignore_index=True)"
   ]
  },
  {
   "cell_type": "code",
   "execution_count": 93,
   "metadata": {},
   "outputs": [
    {
     "data": {
      "text/html": [
       "<div>\n",
       "<style scoped>\n",
       "    .dataframe tbody tr th:only-of-type {\n",
       "        vertical-align: middle;\n",
       "    }\n",
       "\n",
       "    .dataframe tbody tr th {\n",
       "        vertical-align: top;\n",
       "    }\n",
       "\n",
       "    .dataframe thead th {\n",
       "        text-align: right;\n",
       "    }\n",
       "</style>\n",
       "<table border=\"1\" class=\"dataframe\">\n",
       "  <thead>\n",
       "    <tr style=\"text-align: right;\">\n",
       "      <th></th>\n",
       "      <th>Age</th>\n",
       "      <th>Min</th>\n",
       "      <th>Goals</th>\n",
       "      <th>Assists</th>\n",
       "    </tr>\n",
       "  </thead>\n",
       "  <tbody>\n",
       "    <tr>\n",
       "      <th>count</th>\n",
       "      <td>221.000000</td>\n",
       "      <td>221.000000</td>\n",
       "      <td>221.000000</td>\n",
       "      <td>221.000000</td>\n",
       "    </tr>\n",
       "    <tr>\n",
       "      <th>mean</th>\n",
       "      <td>27.307692</td>\n",
       "      <td>300.280543</td>\n",
       "      <td>0.628959</td>\n",
       "      <td>0.221719</td>\n",
       "    </tr>\n",
       "    <tr>\n",
       "      <th>std</th>\n",
       "      <td>4.331217</td>\n",
       "      <td>213.825785</td>\n",
       "      <td>1.201466</td>\n",
       "      <td>0.595955</td>\n",
       "    </tr>\n",
       "    <tr>\n",
       "      <th>min</th>\n",
       "      <td>17.000000</td>\n",
       "      <td>0.000000</td>\n",
       "      <td>0.000000</td>\n",
       "      <td>0.000000</td>\n",
       "    </tr>\n",
       "    <tr>\n",
       "      <th>25%</th>\n",
       "      <td>24.000000</td>\n",
       "      <td>90.000000</td>\n",
       "      <td>0.000000</td>\n",
       "      <td>0.000000</td>\n",
       "    </tr>\n",
       "    <tr>\n",
       "      <th>50%</th>\n",
       "      <td>27.000000</td>\n",
       "      <td>335.000000</td>\n",
       "      <td>0.000000</td>\n",
       "      <td>0.000000</td>\n",
       "    </tr>\n",
       "    <tr>\n",
       "      <th>75%</th>\n",
       "      <td>31.000000</td>\n",
       "      <td>489.000000</td>\n",
       "      <td>1.000000</td>\n",
       "      <td>0.000000</td>\n",
       "    </tr>\n",
       "    <tr>\n",
       "      <th>max</th>\n",
       "      <td>39.000000</td>\n",
       "      <td>630.000000</td>\n",
       "      <td>6.000000</td>\n",
       "      <td>4.000000</td>\n",
       "    </tr>\n",
       "  </tbody>\n",
       "</table>\n",
       "</div>"
      ],
      "text/plain": [
       "              Age         Min       Goals     Assists\n",
       "count  221.000000  221.000000  221.000000  221.000000\n",
       "mean    27.307692  300.280543    0.628959    0.221719\n",
       "std      4.331217  213.825785    1.201466    0.595955\n",
       "min     17.000000    0.000000    0.000000    0.000000\n",
       "25%     24.000000   90.000000    0.000000    0.000000\n",
       "50%     27.000000  335.000000    0.000000    0.000000\n",
       "75%     31.000000  489.000000    1.000000    0.000000\n",
       "max     39.000000  630.000000    6.000000    4.000000"
      ]
     },
     "execution_count": 93,
     "metadata": {},
     "output_type": "execute_result"
    }
   ],
   "source": [
    "df.describe()"
   ]
  },
  {
   "cell_type": "code",
   "execution_count": 107,
   "metadata": {},
   "outputs": [
    {
     "data": {
      "image/png": "[encoded data removed]",
      "text/plain": [
       "<Figure size 720x360 with 1 Axes>"
      ]
     },
     "metadata": {
      "needs_background": "light"
     },
     "output_type": "display_data"
    }
   ],
   "source": [
    "# Box plot of age versus results\n",
    "plt.figure(figsize=(10, 5))\n",
    "sns.boxplot(x=df[\"Year\"], \n",
    "               y=df[\"Age\"],\n",
    "               whis=2.0,\n",
    "               palette=results)\n",
    "plt.savefig(\"age_by_year.png\")"
   ]
  },
  {
   "cell_type": "code",
   "execution_count": 177,
   "metadata": {},
   "outputs": [
    {
     "data": {
      "image/png": "[encoded data removed]",
      "text/plain": [
       "<Figure size 432x288 with 1 Axes>"
      ]
     },
     "metadata": {
      "needs_background": "light"
     },
     "output_type": "display_data"
    }
   ],
   "source": [
    "# Age weighted by playing time\n",
    "wm = lambda x: np.average(x, weights=df.loc[x.index, \"Min\"])\n",
    "df_weighted = df.groupby([\"Year\"]).agg(Age=(\"Age\", wm)).reset_index()\n",
    "df_weighted = df_weighted.astype({\"Year\": \"int32\"})\n",
    "sns.regplot(x = df_weighted[\"Year\"], \n",
    "            y = df_weighted[\"Age\"])\n",
    "ticks = np.arange(2000, 2022, 2).tolist()\n",
    "plt.xticks(ticks)\n",
    "plt.savefig(\"weighted_by_age.png\")"
   ]
  },
  {
   "cell_type": "code",
   "execution_count": 126,
   "metadata": {},
   "outputs": [
    {
     "data": {
      "image/png": "[encoded data removed]",
      "text/plain": [
       "<Figure size 432x288 with 1 Axes>"
      ]
     },
     "metadata": {
      "needs_background": "light"
     },
     "output_type": "display_data"
    }
   ],
   "source": [
    "# Look at goals by age\n",
    "df_goals = df.groupby([\"Age\"], as_index=False).sum()\n",
    "fig1, ax1 = plt.subplots()\n",
    "ax1.set_ylabel(\"Goals\")\n",
    "ax1.set_xlabel(\"Age\")\n",
    "plt.bar(df_goals[\"Age\"], df_goals[\"Goals\"])\n",
    "plt.savefig(\"goals_by_age.png\")"
   ]
  },
  {
   "cell_type": "code",
   "execution_count": 127,
   "metadata": {},
   "outputs": [
    {
     "data": {
      "image/png": "[encoded data removed]",
      "text/plain": [
       "<Figure size 432x288 with 1 Axes>"
      ]
     },
     "metadata": {
      "needs_background": "light"
     },
     "output_type": "display_data"
    }
   ],
   "source": [
    "# Look at assists by age\n",
    "df_goals = df.groupby([\"Age\"], as_index=False).sum()\n",
    "fig1, ax1 = plt.subplots()\n",
    "ax1.set_ylabel(\"Assists\")\n",
    "ax1.set_xlabel(\"Age\")\n",
    "plt.bar(df_goals[\"Age\"], df_goals[\"Assists\"])\n",
    "plt.savefig(\"assists_by_age.png\")"
   ]
  },
  {
   "cell_type": "code",
   "execution_count": null,
   "metadata": {},
   "outputs": [],
   "source": []
  }
 ],
 "metadata": {
  "kernelspec": {
   "display_name": "Python 3",
   "language": "python",
   "name": "python3"
  },
  "language_info": {
   "codemirror_mode": {
    "name": "ipython",
    "version": 3
   },
   "file_extension": ".py",
   "mimetype": "text/x-python",
   "name": "python",
   "nbconvert_exporter": "python",
   "pygments_lexer": "ipython3",
   "version": "3.8.2"
  }
 },
 "nbformat": 4,
 "nbformat_minor": 4
}
